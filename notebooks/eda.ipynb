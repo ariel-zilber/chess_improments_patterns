{
 "cells": [
  {
   "cell_type": "markdown",
   "metadata": {},
   "source": [
    "### Michaels datasets"
   ]
  },
  {
   "cell_type": "code",
   "execution_count": 8,
   "metadata": {},
   "outputs": [
    {
     "name": "stdout",
     "output_type": "stream",
     "text": [
      "Defaulting to user installation because normal site-packages is not writeable\n",
      "\u001b[33mDEPRECATION: Loading egg at /usr/local/lib/python3.11/site-packages/numpy-1.26.4-py3.11-linux-x86_64.egg is deprecated. pip 24.3 will enforce this behaviour change. A possible replacement is to use pip for package installation.. Discussion can be found at https://github.com/pypa/pip/issues/12330\u001b[0m\u001b[33m\n",
      "\u001b[0m\u001b[33mDEPRECATION: Loading egg at /usr/local/lib/python3.11/site-packages/face_recognition-1.4.0-py3.11.egg is deprecated. pip 24.3 will enforce this behaviour change. A possible replacement is to use pip for package installation.. Discussion can be found at https://github.com/pypa/pip/issues/12330\u001b[0m\u001b[33m\n",
      "\u001b[0m\u001b[33mDEPRECATION: Loading egg at /usr/local/lib/python3.11/site-packages/dlib-19.24.2-py3.11-linux-x86_64.egg is deprecated. pip 24.3 will enforce this behaviour change. A possible replacement is to use pip for package installation.. Discussion can be found at https://github.com/pypa/pip/issues/12330\u001b[0m\u001b[33m\n",
      "\u001b[0m\u001b[33mDEPRECATION: Loading egg at /usr/local/lib/python3.11/site-packages/face_recognition_models-0.3.0-py3.11.egg is deprecated. pip 24.3 will enforce this behaviour change. A possible replacement is to use pip for package installation.. Discussion can be found at https://github.com/pypa/pip/issues/12330\u001b[0m\u001b[33m\n",
      "\u001b[0mCollecting chess\n",
      "  Downloading chess-1.10.0-py3-none-any.whl.metadata (19 kB)\n",
      "Downloading chess-1.10.0-py3-none-any.whl (154 kB)\n",
      "\u001b[2K   \u001b[90m━━━━━━━━━━━━━━━━━━━━━━━━━━━━━━━━━━━━━━━\u001b[0m \u001b[32m154.4/154.4 kB\u001b[0m \u001b[31m342.5 kB/s\u001b[0m eta \u001b[36m0:00:00\u001b[0ma \u001b[36m0:00:01\u001b[0m\n",
      "\u001b[?25hInstalling collected packages: chess\n",
      "Successfully installed chess-1.10.0\n",
      "\n",
      "\u001b[1m[\u001b[0m\u001b[34;49mnotice\u001b[0m\u001b[1;39;49m]\u001b[0m\u001b[39;49m A new release of pip is available: \u001b[0m\u001b[31;49m23.3.2\u001b[0m\u001b[39;49m -> \u001b[0m\u001b[32;49m24.0\u001b[0m\n",
      "\u001b[1m[\u001b[0m\u001b[34;49mnotice\u001b[0m\u001b[1;39;49m]\u001b[0m\u001b[39;49m To update, run: \u001b[0m\u001b[32;49mpip install --upgrade pip\u001b[0m\n"
     ]
    }
   ],
   "source": [
    "!pip install chess"
   ]
  },
  {
   "cell_type": "code",
   "execution_count": 9,
   "metadata": {},
   "outputs": [],
   "source": [
    "import chess.pgn\n",
    "import pandas as pd\n"
   ]
  },
  {
   "cell_type": "code",
   "execution_count": 16,
   "metadata": {},
   "outputs": [
    {
     "name": "stdout",
     "output_type": "stream",
     "text": [
      "mkdir: cannot create directory ‘../data/raw/michaelfire/’: File exists\n"
     ]
    },
    {
     "name": "stdout",
     "output_type": "stream",
     "text": [
      "mkdir: cannot create directory ‘../data/raw/michaelfire/fics-network’: File exists\n",
      "^C\n",
      "User cancelled operation\n"
     ]
    }
   ],
   "source": [
    "!mkdir ../data/raw/michaelfire/\n",
    "!mkdir ../data/raw/michaelfire/fics-network\n"
   ]
  },
  {
   "cell_type": "code",
   "execution_count": 17,
   "metadata": {},
   "outputs": [
    {
     "name": "stdout",
     "output_type": "stream",
     "text": [
      "^C\n",
      "User cancelled operation\n"
     ]
    }
   ],
   "source": [
    "!kaggle datasets download michaelfire/fics-network -p ../data/raw/michaelfire/fics-network"
   ]
  },
  {
   "cell_type": "code",
   "execution_count": 15,
   "metadata": {},
   "outputs": [
    {
     "name": "stdout",
     "output_type": "stream",
     "text": [
      "Archive:  ../data/raw/michaelfire/fics-network/fics-network.zip\n",
      "  End-of-central-directory signature not found.  Either this file is not\n",
      "  a zipfile, or it constitutes one disk of a multi-part archive.  In the\n",
      "  latter case the central directory and zipfile comment will be found on\n",
      "  the last disk(s) of this archive.\n",
      "unzip:  cannot find zipfile directory in one of ../data/raw/michaelfire/fics-network/fics-network.zip or\n",
      "        ../data/raw/michaelfire/fics-network/fics-network.zip.zip, and cannot find ../data/raw/michaelfire/fics-network/fics-network.zip.ZIP, period.\n"
     ]
    }
   ],
   "source": [
    "!unzip ../data/raw/michaelfire/fics-network/*  -d../data/raw/michaelfire/fics-network"
   ]
  },
  {
   "cell_type": "markdown",
   "metadata": {},
   "source": []
  },
  {
   "cell_type": "code",
   "execution_count": 2,
   "metadata": {},
   "outputs": [
    {
     "name": "stdout",
     "output_type": "stream",
     "text": [
      "mkdir: cannot create directory ‘/home/ariel-zilber/.kaggle/’: File exists\n"
     ]
    }
   ],
   "source": [
    "# download datasets\n",
    "import json\n",
    "!mkdir /home/ariel-zilber/.kaggle/\n",
    "# Installing the Kaggle package\n",
    "\n",
    "#Important Note: complete this with your own key - after running this for the first time remmember to **remove** your API_KEY\n",
    "api_token = {\"username\":\"arielzilber\",\"key\":\"7f0cfa2d136af50998e08583c84cc892\"}\n",
    "\n",
    "# creating kaggle.json file with the personal API-Key details\n",
    "# You can also put this file on your Google Drive\n",
    "\n",
    "with open('/home/ariel-zilber/.kaggle/kaggle.json', 'w') as file:\n",
    "  json.dump(api_token, file)\n",
    "!chmod 600 /home/ariel-zilber/.kaggle/kaggle.json"
   ]
  },
  {
   "cell_type": "code",
   "execution_count": 10,
   "metadata": {},
   "outputs": [
    {
     "ename": "KeyboardInterrupt",
     "evalue": "",
     "output_type": "error",
     "traceback": [
      "\u001b[0;31m---------------------------------------------------------------------------\u001b[0m",
      "\u001b[0;31mKeyboardInterrupt\u001b[0m                         Traceback (most recent call last)",
      "Cell \u001b[0;32mIn[10], line 5\u001b[0m\n\u001b[1;32m      3\u001b[0m my_list \u001b[39m=\u001b[39m []\n\u001b[1;32m      4\u001b[0m \u001b[39mfor\u001b[39;00m i \u001b[39min\u001b[39;00m pgn:\n\u001b[0;32m----> 5\u001b[0m     i \u001b[39m=\u001b[39m chess\u001b[39m.\u001b[39;49mpgn\u001b[39m.\u001b[39;49mread_game(pgn)\n\u001b[1;32m      6\u001b[0m     my_list\u001b[39m.\u001b[39mappend(i)\n\u001b[1;32m      7\u001b[0m     df \u001b[39m=\u001b[39m pd\u001b[39m.\u001b[39mDataFrame(my_list)\n",
      "File \u001b[0;32m~/.local/lib/python3.11/site-packages/chess/pgn.py:1731\u001b[0m, in \u001b[0;36mread_game\u001b[0;34m(handle, Visitor)\u001b[0m\n\u001b[1;32m   1729\u001b[0m \u001b[39mif\u001b[39;00m visitor\u001b[39m.\u001b[39mbegin_parse_san(board_stack[\u001b[39m-\u001b[39m\u001b[39m1\u001b[39m], token) \u001b[39mis\u001b[39;00m \u001b[39mnot\u001b[39;00m SKIP:\n\u001b[1;32m   1730\u001b[0m     \u001b[39mtry\u001b[39;00m:\n\u001b[0;32m-> 1731\u001b[0m         move \u001b[39m=\u001b[39m visitor\u001b[39m.\u001b[39;49mparse_san(board_stack[\u001b[39m-\u001b[39;49m\u001b[39m1\u001b[39;49m], token)\n\u001b[1;32m   1732\u001b[0m     \u001b[39mexcept\u001b[39;00m \u001b[39mValueError\u001b[39;00m \u001b[39mas\u001b[39;00m error:\n\u001b[1;32m   1733\u001b[0m         visitor\u001b[39m.\u001b[39mhandle_error(error)\n",
      "File \u001b[0;32m~/.local/lib/python3.11/site-packages/chess/pgn.py:1104\u001b[0m, in \u001b[0;36mBaseVisitor.parse_san\u001b[0;34m(self, board, san)\u001b[0m\n\u001b[1;32m   1090\u001b[0m \u001b[39mdef\u001b[39;00m \u001b[39mparse_san\u001b[39m(\u001b[39mself\u001b[39m, board: chess\u001b[39m.\u001b[39mBoard, san: \u001b[39mstr\u001b[39m) \u001b[39m-\u001b[39m\u001b[39m>\u001b[39m chess\u001b[39m.\u001b[39mMove:\n\u001b[1;32m   1091\u001b[0m \u001b[39m    \u001b[39m\u001b[39m\"\"\"\u001b[39;00m\n\u001b[1;32m   1092\u001b[0m \u001b[39m    When the visitor is used by a parser, this is called to parse a move\u001b[39;00m\n\u001b[1;32m   1093\u001b[0m \u001b[39m    in standard algebraic notation.\u001b[39;00m\n\u001b[0;32m   (...)\u001b[0m\n\u001b[1;32m   1102\u001b[0m \u001b[39m        they can be handled for everyone.\u001b[39;00m\n\u001b[1;32m   1103\u001b[0m \u001b[39m    \"\"\"\u001b[39;00m\n\u001b[0;32m-> 1104\u001b[0m     \u001b[39mreturn\u001b[39;00m board\u001b[39m.\u001b[39;49mparse_san(san)\n",
      "File \u001b[0;32m~/.local/lib/python3.11/site-packages/chess/__init__.py:3029\u001b[0m, in \u001b[0;36mBoard.parse_san\u001b[0;34m(self, san)\u001b[0m\n\u001b[1;32m   3026\u001b[0m     \u001b[39mraise\u001b[39;00m IllegalMoveError(\u001b[39mf\u001b[39m\u001b[39m\"\u001b[39m\u001b[39millegal san: \u001b[39m\u001b[39m{\u001b[39;00msan\u001b[39m!r}\u001b[39;00m\u001b[39m in \u001b[39m\u001b[39m{\u001b[39;00m\u001b[39mself\u001b[39m\u001b[39m.\u001b[39mfen()\u001b[39m}\u001b[39;00m\u001b[39m\"\u001b[39m)\n\u001b[1;32m   3028\u001b[0m \u001b[39m# Match normal moves.\u001b[39;00m\n\u001b[0;32m-> 3029\u001b[0m match \u001b[39m=\u001b[39m SAN_REGEX\u001b[39m.\u001b[39;49mmatch(san)\n\u001b[1;32m   3030\u001b[0m \u001b[39mif\u001b[39;00m \u001b[39mnot\u001b[39;00m match:\n\u001b[1;32m   3031\u001b[0m     \u001b[39m# Null moves.\u001b[39;00m\n\u001b[1;32m   3032\u001b[0m     \u001b[39mif\u001b[39;00m san \u001b[39min\u001b[39;00m [\u001b[39m\"\u001b[39m\u001b[39m--\u001b[39m\u001b[39m\"\u001b[39m, \u001b[39m\"\u001b[39m\u001b[39mZ0\u001b[39m\u001b[39m\"\u001b[39m, \u001b[39m\"\u001b[39m\u001b[39m0000\u001b[39m\u001b[39m\"\u001b[39m, \u001b[39m\"\u001b[39m\u001b[39m@@@@\u001b[39m\u001b[39m\"\u001b[39m]:\n",
      "\u001b[0;31mKeyboardInterrupt\u001b[0m: "
     ]
    }
   ],
   "source": [
    "\n",
    "pgn = open(\"/home/ariel-zilber/Documents/msc/big_data/chess_improments_patterns/data/raw/ficsgamesdb_2016_chess_movetimes_324859.pgn\")\n",
    "\n",
    "my_list = []\n",
    "for i in pgn:\n",
    "    i = chess.pgn.read_game(pgn)\n",
    "    my_list.append(i)\n",
    "    df = pd.DataFrame(my_list)\n"
   ]
  },
  {
   "cell_type": "code",
   "execution_count": 18,
   "metadata": {},
   "outputs": [],
   "source": [
    "df=pd.read_csv(\"../data/raw/michaelfire/fics-network/fcis_chess.interactions.csv\")"
   ]
  },
  {
   "cell_type": "code",
   "execution_count": null,
   "metadata": {},
   "outputs": [],
   "source": [
    "df"
   ]
  }
 ],
 "metadata": {
  "kernelspec": {
   "display_name": "Python 3",
   "language": "python",
   "name": "python3"
  },
  "language_info": {
   "codemirror_mode": {
    "name": "ipython",
    "version": 3
   },
   "file_extension": ".py",
   "mimetype": "text/x-python",
   "name": "python",
   "nbconvert_exporter": "python",
   "pygments_lexer": "ipython3",
   "version": "3.11.7"
  },
  "orig_nbformat": 4
 },
 "nbformat": 4,
 "nbformat_minor": 2
}
